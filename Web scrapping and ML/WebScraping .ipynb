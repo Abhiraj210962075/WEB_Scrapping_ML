{
 "cells": [
  {
   "cell_type": "markdown",
   "id": "098b4f55",
   "metadata": {},
   "source": [
    "# Write a web scraping script which takes an input of any film actor and gives the output of filmography of that actor in descending order.\n",
    "\n",
    "Use web scraping method\n",
    "\n"
   ]
  },
  {
   "cell_type": "code",
   "execution_count": 3,
   "id": "c034e370",
   "metadata": {},
   "outputs": [
    {
     "name": "stdout",
     "output_type": "stream",
     "text": [
      "Enter the name of the actor: Leonardo DiCaprio\n",
      "Filmography of Leonardo DiCaprio in descending order:\n",
      "1. 2025: Upcoming Paul Thomas Anderson film †\n",
      "2. 2023: Killers of the Flower Moon\n",
      "3. 2021: Don't Look Up\n",
      "4. Ice on Fire: Narrator (voice)\n",
      "5. 2019: Once Upon a Time in Hollywood\n",
      "6. 2016: Before the Flood\n",
      "7. The Audition: Himself\n",
      "8. 2015: The Revenant\n",
      "9. The Wolf of Wall Street: Jordan Belfort\n",
      "10. 2013: The Great Gatsby\n",
      "11. 2012: Django Unchained\n",
      "12. 2011: J. Edgar\n",
      "13. Inception: Dom Cobb\n",
      "14. Hubble: Narrator (voice)\n",
      "15. 2010: Shutter Island\n",
      "16. Revolutionary Road: Frank Wheeler\n",
      "17. 2008: Body of Lies\n",
      "18. 2007: The 11th Hour\n",
      "19. Blood Diamond: Danny Archer\n",
      "20. 2006: The Departed\n",
      "21. 2004: The Aviator\n",
      "22. Gangs of New York: Amsterdam Vallon\n",
      "23. 2002: Catch Me If You Can\n",
      "24. 2000: The Beach\n",
      "25. Celebrity: Brandon Darrow\n",
      "26. 1998: The Man in the Iron Mask\n",
      "27. 1997: Titanic\n",
      "28. Marvin's Room: Hank Lacker\n",
      "29. 1996: Romeo + Juliet\n",
      "30. Total Eclipse: Arthur Rimbaud\n",
      "31. The Quick and the Dead: Fee \"The Kid\" Herod\n",
      "32. 1995: The Basketball Diaries\n",
      "33. What's Eating Gilbert Grape: Arnold Grape\n",
      "34. 1993: This Boy's Life\n",
      "35. 1992: Poison Ivy\n",
      "36. 1991: Critters 3\n"
     ]
    }
   ],
   "source": [
    "#note please input the exact name due to case sensitivity\n",
    "import requests\n",
    "from bs4 import BeautifulSoup\n",
    "\n",
    "def get_filmography(actor_name):\n",
    "    #Wikiwand URL\n",
    "    base_url = f\"https://www.wikiwand.com/en/{actor_name.replace(' ', '_')}_filmography\"\n",
    "    response = requests.get(base_url)\n",
    "    if response.status_code == 200:\n",
    "        soup = BeautifulSoup(response.content, 'html.parser')\n",
    "\n",
    "        #searching for table containing films\n",
    "        film_table = soup.find(\"table\", class_=\"wikitable\")\n",
    "\n",
    "        if film_table:\n",
    "            #store movie titles and years\n",
    "            movie_data = []\n",
    "\n",
    "            # Extract movie titles and release years from the table\n",
    "            rows = film_table.find_all(\"tr\")[1:]\n",
    "            for row in rows:\n",
    "                columns = row.find_all([\"td\", \"th\"])\n",
    "                if len(columns) >= 2:\n",
    "                    year = columns[0].text.strip()\n",
    "                    title = columns[1].text.strip()\n",
    "                    movie_data.append((year, title))\n",
    "\n",
    "            return movie_data\n",
    "\n",
    "    return None\n",
    "\n",
    "def main():\n",
    "    actor_name = input(\"Enter the name of the actor: \")\n",
    "    filmography = get_filmography(actor_name)\n",
    "\n",
    "    if filmography:\n",
    "        print(f\"Filmography of {actor_name} in descending order:\")\n",
    "        for idx, (year, title) in enumerate(filmography[::-1], start=1):\n",
    "            print(f\"{idx}. {year}: {title}\")\n",
    "    else:\n",
    "        print(f\"No filmography found for {actor_name}.\")\n",
    "\n",
    "if __name__ == \"__main__\":\n",
    "    main()\n",
    "    \n",
    "    \n",
    "    \n",
    "#note please input the exact name due to case sensitivity"
   ]
  },
  {
   "cell_type": "code",
   "execution_count": null,
   "id": "8b937dac",
   "metadata": {},
   "outputs": [],
   "source": []
  },
  {
   "cell_type": "code",
   "execution_count": null,
   "id": "82b440d0",
   "metadata": {},
   "outputs": [],
   "source": []
  }
 ],
 "metadata": {
  "kernelspec": {
   "display_name": "Python 3 (ipykernel)",
   "language": "python",
   "name": "python3"
  },
  "language_info": {
   "codemirror_mode": {
    "name": "ipython",
    "version": 3
   },
   "file_extension": ".py",
   "mimetype": "text/x-python",
   "name": "python",
   "nbconvert_exporter": "python",
   "pygments_lexer": "ipython3",
   "version": "3.9.7"
  }
 },
 "nbformat": 4,
 "nbformat_minor": 5
}
